{
 "cells": [
  {
   "cell_type": "code",
   "execution_count": 1,
   "id": "501a5f4f",
   "metadata": {},
   "outputs": [],
   "source": [
    "### Q4.\tLet X ~ N(100, 202). Find two values, a and b, symmetric about the mean, \n",
    "### such that the probability of the random variable taking a value between them is 0.99. \n",
    "\n",
    "### A.\t90.5, 105.9 \n",
    "### B.\t80.2, 119.8 \n",
    "### C.\t22, 78 \n",
    "### D.\t48.5, 151.5 \n",
    "### E.\t90.1, 109.9\n"
   ]
  },
  {
   "cell_type": "code",
   "execution_count": 3,
   "id": "10550bff",
   "metadata": {},
   "outputs": [],
   "source": [
    "### importing libraries\n",
    "\n",
    "from scipy import stats\n",
    "from scipy.stats import norm "
   ]
  },
  {
   "cell_type": "code",
   "execution_count": 4,
   "id": "08f48881",
   "metadata": {},
   "outputs": [
    {
     "data": {
      "text/plain": [
       "(48.48341392902199, 151.516586070978)"
      ]
     },
     "execution_count": 4,
     "metadata": {},
     "output_type": "execute_result"
    }
   ],
   "source": [
    "### in this question, mean is 100 and standard deviation is 20. and confidence interval is 0.99\n",
    "\n",
    "### using formula stats.norm.interval we will find 2 values\n",
    "\n",
    "stats.norm.interval(0.99,100,20)"
   ]
  },
  {
   "cell_type": "code",
   "execution_count": null,
   "id": "91ec364b",
   "metadata": {},
   "outputs": [],
   "source": [
    "### Hence option D is correct in the above mentioned question. The values of a and b are 48.5 and 151.5 respectively."
   ]
  }
 ],
 "metadata": {
  "kernelspec": {
   "display_name": "Python 3",
   "language": "python",
   "name": "python3"
  },
  "language_info": {
   "codemirror_mode": {
    "name": "ipython",
    "version": 3
   },
   "file_extension": ".py",
   "mimetype": "text/x-python",
   "name": "python",
   "nbconvert_exporter": "python",
   "pygments_lexer": "ipython3",
   "version": "3.8.8"
  }
 },
 "nbformat": 4,
 "nbformat_minor": 5
}
